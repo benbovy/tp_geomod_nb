{
 "metadata": {
  "name": "",
  "signature": "sha256:8a9e003e47e7b72d0bd8a2a8d0d872bce3dd137e3452c12717d4f978262411da"
 },
 "nbformat": 3,
 "nbformat_minor": 0,
 "worksheets": [
  {
   "cells": [
    {
     "cell_type": "heading",
     "level": 1,
     "metadata": {},
     "source": [
      "TP Mod\u00e9lisation : infos utiles"
     ]
    },
    {
     "cell_type": "heading",
     "level": 2,
     "metadata": {},
     "source": [
      "Outils utilis\u00e9s"
     ]
    },
    {
     "cell_type": "markdown",
     "metadata": {},
     "source": [
      "Le support des travaux pratiques est donn\u00e9 sous forme de [notebooks IPython](http://ipython.org/notebook.html). Les notebooks permettent \u00e0 la fois l'\u00e9dition et l'ex\u00e9cution de code Python (ou autre language) par cellules et une mise en page riche de texte, d'\u00e9quations math\u00e9matiques, d'images, de liens ou de contenu web, tout cela avec l'aide d'un simple navigateur web.\n",
      "\n",
      "Les exercices de TP reposent sur l'usage intensif de Python et de ses principaux packages scientifiques ([Scipy stack](http://www.scipy.org/index.html)):\n",
      "\n",
      "- [Numpy](http://docs.scipy.org/doc/numpy/reference/) (package de base pour la manipulation de tableaux, similaire \u00e0 *Matlab*)\n",
      "- [Scipy](http://docs.scipy.org/doc/scipy/reference/) (collection d'algorithmes num\u00e9riques de base pour l'int\u00e9gration, l'interpolation, les syst\u00e8mes lin\u00e9aires, l'optimisation, etc...)\n",
      "- [Matplotlib](http://matplotlib.org/) (package de base pour la visualisation, similaire \u00e0 *Matlab*)\n",
      "- [Sympy](http://sympy.org/fr/index.html) (math\u00e9matique symbolique, \u00e0 la *Mathematica*)\n",
      "\n",
      "\n",
      "Quelques packages suppl\u00e9mentaires utiles et/ou utilis\u00e9s dans le cadre de ces TPs :\n",
      "- [Seaborn](http://web.stanford.edu/~mwaskom/software/seaborn/) (package de visualisation bas\u00e9 sur Matplotlib)\n",
      "- [JSAnimation](https://github.com/jakevdp/JSAnimation) (animation de figures Matplotlib)\n",
      "- [LandLab](http://landlab.readthedocs.org/en/latest/) (package d\u00e9di\u00e9 sp\u00e9cialement \u00e0 la mod\u00e9lisation en g\u00e9omorphologie, en d\u00e9veloppement)"
     ]
    },
    {
     "cell_type": "heading",
     "level": 2,
     "metadata": {},
     "source": [
      "Installation"
     ]
    },
    {
     "cell_type": "markdown",
     "metadata": {},
     "source": [
      "Python ainsi que tous les outils repris ci-dessus sont *open-source* et disponibles pour la plupart des plateformes communes (Linux, OS-X, Windows) !\n",
      "\n",
      "Il existe plusieurs mani\u00e8res d'installer ces libraires, le plus simple \u00e9tant d'installer une distribution scientifique Python, comme par exemple *Anaconda* ou *Miniconda* (\\*) :\n",
      "\n",
      "- [Anaconda](http://continuum.io/downloads) reprend l'interpr\u00e9teur Python, le gestionnaire de packages *conda* ainsi que +195 packages scientifiques.\n",
      "- [Miniconda](http://conda.pydata.org/miniconda.html) est une version all\u00e9g\u00e9e qui ne reprend que Python + conda (les autres packages peuvent toutefois \u00eatre install\u00e9s par la suite avec conda).\n",
      "\n",
      "Pour installer l'une de ces deux distributions, suivre un des liens ci-dessus et choisir l'installeur correspondant \u00e0 votre plateforme (Linux / OS-X / Windows ; 32/64 bits). Vous avez aussi le choix entre Python2 ou Python3, le mieux \u00e9tant de choisir la derni\u00e8re version (Python3), bien que cela n'a pas beaucoup d'importance (on pourra installer des packages Python2 dans le cadre de ces TPs). Une fois l'installeur t\u00e9l\u00e9charg\u00e9, l'ex\u00e9cuter et suivre les instructions.\n",
      "\n",
      "Une fois la distribution correctement install\u00e9e, la prochaine \u00e9tape est de cr\u00e9er un environnement virtuel. Les environnements virtuels permettent d'installer plusieurs versions de libraries sur le m\u00eame syst\u00e8me et de facilement changer de version. Pour cr\u00e9er l'environnement, ouvrir d'abord un terminal (Linux / OS-X) ou une invite de commande `cmd` (Windows). V\u00e9rifier ensuite que la distribution est bien install\u00e9e en tapant:\n",
      "\n",
      "    conda --help\n",
      "\n",
      "Vous devriez voir apparaitre un message d'aide.\n",
      "\n",
      "La commande suivante va cr\u00e9er un nouvel environnement virtuel, nomm\u00e9 `tp_geomorpho_py27_0`, et y installer tous les packages dont nous avons besoin:\n",
      "\n",
      "    conda create -n tp_geomorpho_py27_0 python=2.7 numpy scipy matplotlib sympy ipython ipython-notebook pip\n",
      "\n",
      "Un r\u00e9sum\u00e9 est affich\u00e9 avec tous les packages (d\u00e9pendences) qui vont \u00eatre t\u00e9l\u00e9charg\u00e9s et install\u00e9s. Tapez `'y'` pour proc\u00e9der \u00e0 l'installation.\n",
      "\n",
      "Les commandes suivantes permettent d'activer l'environnement qui vient d'\u00eatre cr\u00e9\u00e9. Sous Linux ou OS-X, tapez :\n",
      "\n",
      "    source activate tp_geomorpho_py27_0\n",
      "\n",
      "ou plus simplement sous Windows :\n",
      "\n",
      "    activate tp_geomorpho_py27_0\n",
      "\n",
      "Il reste quelques packages \u00e0 installer pour ces TPs:\n",
      "\n",
      "---\n",
      "\n",
      "(\\*) Des alternatives existent: [Enthought Canopy](https://www.enthought.com/products/canopy/) (Linux, OS-X, Windows), [Python XY](https://code.google.com/p/pythonxy/) (Windows), "
     ]
    }
   ],
   "metadata": {}
  }
 ]
}