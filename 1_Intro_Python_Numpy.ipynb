{
 "metadata": {
  "name": "",
  "signature": "sha256:f6ec47c2e19f96db05326b4ef7121e2fc6cb75a47a69484768d81f5368ea4923"
 },
 "nbformat": 3,
 "nbformat_minor": 0,
 "worksheets": [
  {
   "cells": [
    {
     "cell_type": "heading",
     "level": 1,
     "metadata": {},
     "source": [
      "TP Mod\u00e9lisation: Introduction \u00e0 Python et Numpy (r\u00e9f\u00e9rences externes)"
     ]
    },
    {
     "cell_type": "markdown",
     "metadata": {},
     "source": [
      "Deux notebooks proposant une bonne introduction \u00e0 Python et/ou Numpy:\n",
      "\n",
      "- [A Crash Course in Python for Scientists (R. Muller)](http://nbviewer.ipython.org/gist/rpmuller/5920182)\n",
      "- [An introduction to numpy (SciTools)](http://nbviewer.ipython.org/github/SciTools/courses/blob/master/course_content/numpy_intro.ipynb)\n",
      "\n",
      "Les liens ci-dessus sont des notebooks \"statiques\", il n'est pas possible de modifier et d'\u00e9x\u00e9cuter le code pr\u00e9sent dans les cellules. Pour les utiliser en version dynamique :\n",
      "\n",
      "- T\u00e9l\u00e9charger le notebook (ic\u00f4ne en haut \u00e0 droite)\n",
      "- Eventuellement renommer le fichier avec l'extension \".ipynb\"\n",
      "- Placer le fichier dans le m\u00eame r\u00e9pertoire o\u00f9 se trouvent les notebooks de ces TPs\n",
      "- Le notebook peut \u00eatre ensuite ouvert depuis le dashboard."
     ]
    }
   ],
   "metadata": {}
  }
 ]
}